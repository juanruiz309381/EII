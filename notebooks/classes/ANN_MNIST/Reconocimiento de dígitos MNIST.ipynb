{
 "cells": [
  {
   "cell_type": "markdown",
   "metadata": {
    "id": "39EPWip2jlQD"
   },
   "source": [
    "![image.png](data:image/png;base64,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)"
   ]
  },
  {
   "cell_type": "markdown",
   "metadata": {
    "id": "pCcWUyvAiRET"
   },
   "source": [
    "#ITM - Institución Universitaria\n",
    "#Tema: Aprendizaje supervisado - ANN\n",
    "#Juan Carlos Briñez de León"
   ]
  },
  {
   "cell_type": "markdown",
   "metadata": {
    "id": "I1ctfItv5DMd"
   },
   "source": [
    "Problem:\n",
    "\n",
    "\n",
    "MNIST classification.\n",
    "https://www.kaggle.com/datasets/oddrationale/mnist-in-csv"
   ]
  },
  {
   "cell_type": "code",
   "execution_count": null,
   "metadata": {
    "id": "sV7KACMPuN12"
   },
   "outputs": [],
   "source": [
    "# Only necessary if you want to use the Google Colab Notebooks\n",
    "#from google.colab import drive\n",
    "#drive.mount('/content/drive')"
   ]
  },
  {
   "cell_type": "code",
   "execution_count": null,
   "metadata": {
    "id": "wQrUEShBVBqX"
   },
   "outputs": [],
   "source": [
    "#1. Importando dataset.\n",
    "import cv2 # OpenCV para computer vision\n",
    "import pandas as pd\n",
    "import numpy as np\n",
    "import matplotlib.pyplot as plt #Para graficar\n",
    "\n",
    "#Cargando datos MNIST dataset with csv from kaggle\n",
    "#dataset_tr = pd.read_csv(r'/content/drive/MyDrive/Ponencia IA/Material de apoyo/6. Redes Neuronales/ANN_MNIST/mnist_train.csv')\n",
    "#dataset_ts = pd.read_csv(r'/content/drive/MyDrive/Ponencia IA/Material de apoyo/6. Redes Neuronales/ANN_MNIST/mnist_test.csv')\n",
    "#dataset_ts = np.array(dataset_ts)\n",
    "#dataset_tr = np.array(dataset_tr)"
   ]
  },
  {
   "cell_type": "code",
   "execution_count": null,
   "metadata": {},
   "outputs": [],
   "source": [
    "## Importing mnist from tensorflow.keras.datasets\n",
    "from tensorflow.keras.datasets import mnist\n",
    "\n",
    "# Load data directly\n",
    "(x_train, y_train), (x_test, y_test) = mnist.load_data()\n",
    "\n",
    "# Reshape if needed for traditional ML\n",
    "dataset_tr = x_train.reshape(x_train.shape[0], -1)\n",
    "dataset_ts = x_test.reshape(x_test.shape[0], -1)"
   ]
  },
  {
   "cell_type": "code",
   "execution_count": null,
   "metadata": {
    "id": "R-FQkuYKchX_"
   },
   "outputs": [],
   "source": [
    "#2. Dividing dataset into input (X) and output (Y) variables\n",
    "X_train = dataset_tr[:,1:785]\n",
    "Y_train = dataset_tr[:,0]\n",
    "X_test = dataset_ts[:,1:785]\n",
    "Y_test = dataset_ts[:,0]\n",
    "print(X_train.shape)\n",
    "print(X_test.shape)"
   ]
  },
  {
   "cell_type": "code",
   "execution_count": null,
   "metadata": {
    "id": "lT8CMpxfhF20"
   },
   "outputs": [],
   "source": [
    "#4. Data scaling\n",
    "from sklearn.preprocessing import MinMaxScaler\n",
    "scaler = MinMaxScaler()\n",
    "X_train = scaler.fit_transform(X_train)\n",
    "X_test = scaler.transform(X_test)"
   ]
  },
  {
   "cell_type": "markdown",
   "metadata": {
    "id": "QxwYdVvXNozC"
   },
   "source": [
    "==================================================================="
   ]
  },
  {
   "cell_type": "code",
   "execution_count": null,
   "metadata": {
    "id": "uFKLQAwFc8L2"
   },
   "outputs": [],
   "source": [
    "# Cargando modelos clásicos de IA para clasificación\n",
    "from sklearn.naive_bayes import GaussianNB\n",
    "from sklearn.neighbors import KNeighborsClassifier\n",
    "from sklearn.discriminant_analysis import LinearDiscriminantAnalysis, QuadraticDiscriminantAnalysis\n",
    "from sklearn.tree import DecisionTreeClassifier\n",
    "from sklearn.ensemble import RandomForestClassifier\n",
    "from sklearn.svm import SVC\n",
    "from sklearn.neural_network import MLPClassifier\n",
    "import warnings\n",
    "warnings.filterwarnings(\"ignore\")\n",
    "\n",
    "# Declarar modelos\n",
    "modelos = {\n",
    "    \"Naive Bayes\": GaussianNB(),\n",
    "    \"k-NN\": KNeighborsClassifier(),\n",
    "    \"LDA\": LinearDiscriminantAnalysis(),\n",
    "    \"QDA\": QuadraticDiscriminantAnalysis(),\n",
    "    \"Árbol de Decisión\": DecisionTreeClassifier(),\n",
    "    \"Bosque Aleatorio\": RandomForestClassifier(),\n",
    "    \"SVM\": SVC(),\n",
    "    \"Red Neuronal (MLP)\": MLPClassifier(hidden_layer_sizes=(100,), activation='relu', solver='adam', max_iter=500)\n",
    "}\n",
    "\n",
    "# Definiendo métricas de evaluación\n",
    "from sklearn.metrics import classification_report, accuracy_score\n",
    "\n",
    "# Entrenando modelos\n",
    "resultados = {}\n",
    "for nombre, modelo in modelos.items():\n",
    "    modelo.fit(X_train, Y_train)\n",
    "    Y_pred = modelo.predict(X_test)\n",
    "    resultados[nombre] = {\n",
    "        \"Exactitud\": accuracy_score(Y_test, Y_pred),\n",
    "        \"Reporte de Clasificación\": classification_report(Y_test, Y_pred)\n",
    "    }\n",
    "\n",
    "# Análisis de desempeño\n",
    "for nombre, resultado in resultados.items():\n",
    "    print(f\"Modelo: {nombre}\")\n",
    "    print(f\"Exactitud: {resultado['Exactitud']:.4f}\")\n",
    "    print(\"Reporte de Clasificación:\")\n",
    "    print(resultado[\"Reporte de Clasificación\"])\n",
    "    print(\"-\" * 50)"
   ]
  },
  {
   "cell_type": "markdown",
   "metadata": {
    "id": "pc8X7MUEeJNd"
   },
   "source": [
    "=================================================="
   ]
  },
  {
   "cell_type": "markdown",
   "metadata": {
    "id": "17Po_PASeUc-"
   },
   "source": [
    "Probando el **modelo** ANN en imagen del dataset"
   ]
  },
  {
   "cell_type": "code",
   "execution_count": null,
   "metadata": {
    "id": "yOeCSsW7PnGj"
   },
   "outputs": [],
   "source": [
    "modelo_red_neuronal = modelos[\"Red Neuronal (MLP)\"]\n",
    "#Showing the dataset images (Para entender el dataset y las predicciones)\n",
    "X_test = dataset_ts[:,1:785]\n",
    "Y_test = dataset_ts[:,0]\n",
    "\n",
    "Index = 9550\n",
    "\n",
    "Datos_Imagen = np.zeros((1,784))\n",
    "Datos_Imagen = X_test[Index,:].reshape(1, -1)\n",
    "Imagen = Datos_Imagen.reshape(28,28)\n",
    "\n",
    "Prediccion = modelo_red_neuronal.predict(Datos_Imagen)\n",
    "\n",
    "plt.imshow(Imagen[:,:].astype('uint8'),cmap='gray',vmin=0, vmax=255)\n",
    "print('La etiqueta de este número es: ',Prediccion)"
   ]
  },
  {
   "cell_type": "markdown",
   "metadata": {
    "id": "sDEfBmgrGjzM"
   },
   "source": [
    "======================================================"
   ]
  },
  {
   "cell_type": "markdown",
   "metadata": {
    "id": "FZ-OcEwuG-VQ"
   },
   "source": [
    "Probando en imágenes reales"
   ]
  },
  {
   "cell_type": "code",
   "execution_count": null,
   "metadata": {
    "id": "0_Pakbki7IBq"
   },
   "outputs": [],
   "source": [
    "#Reviewing an experimental case\n",
    "Imagen_Exp = cv2.imread(r'/content/drive/MyDrive/Ponencia IA/Material de apoyo/6. Redes Neuronales/ANN_MNIST/Img_prueba_2.jpg')#Lee\n",
    "plt.imshow(Imagen_Exp[:,:,[2,1,0]].astype('uint8'),vmin=0, vmax=255)\n",
    "plt.show()"
   ]
  },
  {
   "cell_type": "code",
   "execution_count": null,
   "metadata": {
    "id": "56EpkK9m_-br"
   },
   "outputs": [],
   "source": [
    "#Processing the experimental image\n",
    "Img_gray = cv2.cvtColor(Imagen_Exp, cv2.COLOR_BGR2GRAY)\n",
    "_,Binaria = cv2.threshold(Img_gray, 160, 255, cv2.THRESH_BINARY_INV)\n",
    "\n",
    "kernel_A = cv2.getStructuringElement(cv2.MORPH_ELLIPSE,(10,10))\n",
    "Bin_1 = cv2.morphologyEx(Binaria.astype('uint8'), cv2.MORPH_CLOSE, kernel_A)\n",
    "kernel_B = cv2.getStructuringElement(cv2.MORPH_ELLIPSE,(5,5))\n",
    "Bin_2= cv2.morphologyEx(Bin_1.astype('uint8'), cv2.MORPH_OPEN, kernel_B)\n",
    "plt.imshow(Bin_2.astype('uint8'),cmap='gray',vmin=0, vmax=255)\n",
    "plt.show()\n",
    "\n",
    "print('')\n",
    "(Bordes,_) =cv2.findContours(Bin_2, cv2.RETR_EXTERNAL, cv2.CHAIN_APPROX_SIMPLE)\n",
    "print('Usted tiene', len(Bordes), ' regiones en la imagen' )"
   ]
  },
  {
   "cell_type": "code",
   "execution_count": null,
   "metadata": {
    "id": "3PlJB1XDn6wd"
   },
   "outputs": [],
   "source": [
    "#Cropping every number into the image\n",
    "import cv2\n",
    "import numpy as np\n",
    "import matplotlib.pyplot as plt\n",
    "\n",
    "# Recorrer los contornos detectados (Bordes)\n",
    "for i in range(len(Bordes)):\n",
    "    Caso = Bordes[i]\n",
    "    x, y, w, h = cv2.boundingRect(Caso)\n",
    "\n",
    "    # Recortar la imagen del número detectado\n",
    "    New_img = Bin_2[y:y+h, x:x+w]\n",
    "\n",
    "    # Redimensionar a 18x18\n",
    "    New_img_0 = cv2.resize(New_img, (18, 18), interpolation=cv2.INTER_AREA)\n",
    "\n",
    "    # Crear un fondo negro de 28x28 y centrar la imagen de 18x18\n",
    "    New_img_A = np.zeros((28, 28))\n",
    "    New_img_A[5:23, 5:23] = New_img_0  # Centrar el número\n",
    "\n",
    "    # Normalizar la imagen (convertir a valores entre 0 y 1)\n",
    "    New_img_A = New_img_A.flatten().reshape(1, -1) / 255.0  # Convertir a (1, 784)\n",
    "\n",
    "    # Mostrar la imagen procesada\n",
    "    plt.imshow(New_img_A.reshape(28, 28), cmap='gray', vmin=0, vmax=1)\n",
    "    plt.show()\n",
    "\n",
    "    # Hacer la predicción con el modelo de red neuronal\n",
    "    Prediccion = modelo_red_neuronal.predict(New_img_A)\n",
    "\n",
    "    print(\"La predicción es:\", Prediccion[0])  # Mostrar el número predicho\n",
    "    print(\" \")"
   ]
  },
  {
   "cell_type": "code",
   "execution_count": null,
   "metadata": {
    "id": "JaR19EDwVv-U"
   },
   "outputs": [],
   "source": [
    "import cv2\n",
    "import numpy as np\n",
    "import matplotlib.pyplot as plt\n",
    "\n",
    "# Copia de la imagen original para dibujar los bounding boxes\n",
    "imagen_con_bb = Imagen_Exp.copy()\n",
    "\n",
    "# Recorrer los contornos detectados (Bordes)\n",
    "for i in range(len(Bordes)):\n",
    "    Caso = Bordes[i]\n",
    "    x, y, w, h = cv2.boundingRect(Caso)\n",
    "\n",
    "    # Recortar la imagen del número detectado\n",
    "    New_img = Bin_2[y:y+h, x:x+w]\n",
    "\n",
    "    # Redimensionar a 18x18\n",
    "    New_img_0 = cv2.resize(New_img, (18, 18), interpolation=cv2.INTER_AREA)\n",
    "\n",
    "    # Crear un fondo negro de 28x28 y centrar la imagen de 18x18\n",
    "    New_img_A = np.zeros((28, 28))\n",
    "    New_img_A[5:23, 5:23] = New_img_0  # Centrar el número\n",
    "\n",
    "    # Normalizar la imagen (convertir a valores entre 0 y 1)\n",
    "    New_img_A = New_img_A.flatten().reshape(1, -1) / 255.0  # Convertir a (1, 784)\n",
    "\n",
    "    # Hacer la predicción con el modelo de red neuronal\n",
    "    Prediccion = modelo_red_neuronal.predict(New_img_A)[0]\n",
    "\n",
    "    # Dibujar el bounding box en la imagen original\n",
    "    cv2.rectangle(imagen_con_bb, (x, y), (x + w, y + h), (0, 0, 255), 2)\n",
    "\n",
    "    # Escribir la predicción sobre la imagen\n",
    "    cv2.putText(imagen_con_bb, str(Prediccion), (x, y - 10),\n",
    "                cv2.FONT_HERSHEY_SIMPLEX, 1.5, (0, 0, 0), 4, cv2.LINE_AA)\n",
    "\n",
    "# Mostrar la imagen original con todas las predicciones y bounding boxes\n",
    "plt.figure(figsize=(10, 6))\n",
    "plt.imshow(cv2.cvtColor(imagen_con_bb, cv2.COLOR_BGR2RGB))  # Convertir BGR a RGB para matplotlib\n",
    "plt.title(\"Imagen con Bounding Boxes y Predicciones\")\n",
    "plt.axis(\"off\")\n",
    "plt.show()"
   ]
  }
 ],
 "metadata": {
  "colab": {
   "authorship_tag": "ABX9TyMlLHO8nISlALlIDEQpgYI6",
   "mount_file_id": "19PrejjbL8gpRYbYIkguYs24tR1aVFouj",
   "provenance": [
    {
     "file_id": "1xwO_URWNHnDqOH2IDgD0Ku0gu-1_3t4S",
     "timestamp": 1644183539449
    }
   ]
  },
  "kernelspec": {
   "display_name": "Python 3",
   "name": "python3"
  },
  "language_info": {
   "name": "python"
  }
 },
 "nbformat": 4,
 "nbformat_minor": 0
}
